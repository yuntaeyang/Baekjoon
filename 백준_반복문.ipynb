{
 "cells": [
  {
   "cell_type": "markdown",
   "id": "99f1b335",
   "metadata": {},
   "source": [
    "## 2739번"
   ]
  },
  {
   "cell_type": "code",
   "execution_count": 1,
   "id": "f77b22e6",
   "metadata": {},
   "outputs": [
    {
     "name": "stdout",
     "output_type": "stream",
     "text": [
      "2\n",
      "2 * 1 = 2\n",
      "2 * 2 = 4\n",
      "2 * 3 = 6\n",
      "2 * 4 = 8\n",
      "2 * 5 = 10\n",
      "2 * 6 = 12\n",
      "2 * 7 = 14\n",
      "2 * 8 = 16\n",
      "2 * 9 = 18\n"
     ]
    }
   ],
   "source": [
    "A = int(input())\n",
    "\n",
    "for i in range(1,10):\n",
    "    print(f\"{A} * {i} = {A*i}\")"
   ]
  },
  {
   "cell_type": "markdown",
   "id": "24268728",
   "metadata": {},
   "source": [
    "## 10950번"
   ]
  },
  {
   "cell_type": "code",
   "execution_count": 2,
   "id": "5695f2b2",
   "metadata": {},
   "outputs": [
    {
     "name": "stdout",
     "output_type": "stream",
     "text": [
      "5\n",
      "1 1\n",
      "2\n",
      "2 3\n",
      "5\n",
      "3 4\n",
      "7\n",
      "9 8\n",
      "17\n",
      "5 2\n",
      "7\n"
     ]
    }
   ],
   "source": [
    "n = int(input())\n",
    "for i in range(n):\n",
    "    A, B = map(int, input().split())\n",
    "    print(A+B)"
   ]
  },
  {
   "cell_type": "markdown",
   "id": "aaa395fd",
   "metadata": {},
   "source": [
    "## 8393번"
   ]
  },
  {
   "cell_type": "code",
   "execution_count": 3,
   "id": "e6cdaa2a",
   "metadata": {},
   "outputs": [
    {
     "name": "stdout",
     "output_type": "stream",
     "text": [
      "3\n",
      "6\n"
     ]
    }
   ],
   "source": [
    "n = int(input())\n",
    "\n",
    "point = 0\n",
    "for i in range(1, n+1):\n",
    "    point += i\n",
    "print(point)"
   ]
  },
  {
   "cell_type": "markdown",
   "id": "84caa911",
   "metadata": {},
   "source": [
    "## 15552번"
   ]
  },
  {
   "cell_type": "code",
   "execution_count": null,
   "id": "2e697041",
   "metadata": {},
   "outputs": [],
   "source": [
    "import sys\n",
    "n = int(input())\n",
    "\n",
    "for i in range(n):\n",
    "    A, B = map(int, sys.stdin.readline().split())\n",
    "    print(A+B)"
   ]
  },
  {
   "cell_type": "markdown",
   "id": "d7992f93",
   "metadata": {},
   "source": [
    "## 2741번"
   ]
  },
  {
   "cell_type": "code",
   "execution_count": 1,
   "id": "88a8e3e2",
   "metadata": {},
   "outputs": [
    {
     "name": "stdout",
     "output_type": "stream",
     "text": [
      "5\n",
      "1\n",
      "2\n",
      "3\n",
      "4\n",
      "5\n"
     ]
    }
   ],
   "source": [
    "n = int(input())\n",
    "\n",
    "for i in range(1, n+1):\n",
    "    print(i)"
   ]
  },
  {
   "cell_type": "markdown",
   "id": "070145c0",
   "metadata": {},
   "source": [
    "## 2742번"
   ]
  },
  {
   "cell_type": "code",
   "execution_count": 3,
   "id": "98fb3009",
   "metadata": {},
   "outputs": [
    {
     "name": "stdout",
     "output_type": "stream",
     "text": [
      "5\n",
      "5\n",
      "4\n",
      "3\n",
      "2\n",
      "1\n"
     ]
    }
   ],
   "source": [
    "n = int(input())\n",
    "\n",
    "for i in range(n):\n",
    "    print(n-i)"
   ]
  },
  {
   "cell_type": "markdown",
   "id": "6105b579",
   "metadata": {},
   "source": [
    "## 11021번"
   ]
  },
  {
   "cell_type": "code",
   "execution_count": null,
   "id": "97a393a1",
   "metadata": {},
   "outputs": [],
   "source": [
    "import sys\n",
    "n = int(input())\n",
    "\n",
    "for i in range(n):\n",
    "    A, B = map(int, sys.stdin.readline().split())\n",
    "    print(f\"Case #{i+1}: {A+B}\")"
   ]
  },
  {
   "cell_type": "markdown",
   "id": "e384eff7",
   "metadata": {},
   "source": [
    "## 11022번"
   ]
  },
  {
   "cell_type": "code",
   "execution_count": null,
   "id": "73be94a5",
   "metadata": {},
   "outputs": [],
   "source": [
    "import sys\n",
    "n = int(input())\n",
    "\n",
    "for i in range(n):\n",
    "    A, B = map(int, sys.stdin.readline().split())\n",
    "    print(f\"Case #{i+1}: {A} + {B} = {A+B}\")"
   ]
  },
  {
   "cell_type": "markdown",
   "id": "c0b94e17",
   "metadata": {},
   "source": [
    "## 2438번"
   ]
  },
  {
   "cell_type": "code",
   "execution_count": 5,
   "id": "a83aefb3",
   "metadata": {},
   "outputs": [
    {
     "name": "stdout",
     "output_type": "stream",
     "text": [
      "5\n",
      "*\n",
      "**\n",
      "***\n",
      "****\n",
      "*****\n"
     ]
    }
   ],
   "source": [
    "n = int(input())\n",
    "\n",
    "for i in range(1, n+1):\n",
    "    print(\"*\"*i)"
   ]
  },
  {
   "cell_type": "code",
   "execution_count": null,
   "id": "47b5b54c",
   "metadata": {},
   "outputs": [],
   "source": []
  }
 ],
 "metadata": {
  "kernelspec": {
   "display_name": "Python 3",
   "language": "python",
   "name": "python3"
  },
  "language_info": {
   "codemirror_mode": {
    "name": "ipython",
    "version": 3
   },
   "file_extension": ".py",
   "mimetype": "text/x-python",
   "name": "python",
   "nbconvert_exporter": "python",
   "pygments_lexer": "ipython3",
   "version": "3.8.8"
  }
 },
 "nbformat": 4,
 "nbformat_minor": 5
}
