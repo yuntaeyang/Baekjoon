{
 "cells": [
  {
   "cell_type": "markdown",
   "id": "01c509bd",
   "metadata": {},
   "source": [
    "## 10818번"
   ]
  },
  {
   "cell_type": "code",
   "execution_count": null,
   "id": "bfd43e83",
   "metadata": {},
   "outputs": [],
   "source": [
    "num = int(input()) \n",
    "data=list(map(int, input().split()))\n",
    "\n",
    "print(f\"{min(data)} {max(data)}\")"
   ]
  },
  {
   "cell_type": "markdown",
   "id": "2b0508c5",
   "metadata": {},
   "source": [
    "## 2562"
   ]
  },
  {
   "cell_type": "code",
   "execution_count": null,
   "id": "3945984d",
   "metadata": {},
   "outputs": [],
   "source": [
    "number = {}\n",
    "for i in range(1,10):\n",
    "    num = int(input())\n",
    "    number[i] = num\n",
    "print(f\"{max(number.values())}\")\n",
    "print(f\"{max(number, key=number.get)}\")"
   ]
  },
  {
   "cell_type": "markdown",
   "id": "e5026d35",
   "metadata": {},
   "source": [
    "## 2577번"
   ]
  },
  {
   "cell_type": "code",
   "execution_count": null,
   "id": "013b481f",
   "metadata": {},
   "outputs": [],
   "source": [
    "A = int(input())\n",
    "B = int(input())\n",
    "C = int(input())\n",
    "\n",
    "for k in range(10):\n",
    "    print(len([ i for i in str(A*B*C) if i==str(k)]))\n",
    "\n",
    "    "
   ]
  },
  {
   "cell_type": "code",
   "execution_count": null,
   "id": "b9b22785",
   "metadata": {},
   "outputs": [],
   "source": [
    "answer = []\n",
    "for _ in range(10):\n",
    "    A=int(input())\n",
    "    B=A%42\n",
    "    answer.append(B)\n",
    "    \n",
    "print(len(set(answer)))"
   ]
  },
  {
   "cell_type": "markdown",
   "id": "316da507",
   "metadata": {},
   "source": [
    "## 1546"
   ]
  },
  {
   "cell_type": "code",
   "execution_count": null,
   "id": "56ab97a4",
   "metadata": {},
   "outputs": [],
   "source": [
    "N = int(input())\n",
    "score_list=list(map(int, input().split()))\n",
    "\n",
    "max_score=max(score_list)\n",
    "\n",
    "print(sum([(i/max_score)*100 for i in score_list]) / N)"
   ]
  },
  {
   "cell_type": "markdown",
   "id": "a131a564",
   "metadata": {},
   "source": [
    "## 8958"
   ]
  },
  {
   "cell_type": "code",
   "execution_count": null,
   "id": "d7b09382",
   "metadata": {},
   "outputs": [],
   "source": [
    "N = int(input())\n",
    "\n",
    "for _ in range(N):\n",
    "    A = input()\n",
    "    answer = 0\n",
    "    c = 1\n",
    "    for i in A:\n",
    "        if i == \"O\":\n",
    "            answer += c\n",
    "            c += 1\n",
    "        else:\n",
    "            c = 1\n",
    "    print(answer)\n",
    "\n"
   ]
  },
  {
   "cell_type": "markdown",
   "id": "dec247be",
   "metadata": {},
   "source": [
    "## 4344"
   ]
  },
  {
   "cell_type": "code",
   "execution_count": null,
   "id": "bbea97e9",
   "metadata": {},
   "outputs": [],
   "source": [
    "N = int(input())\n",
    "for _ in range(N):\n",
    "    score_list=list(map(int, input().split()))\n",
    "    score_mean = sum(score_list[1:]) / score_list[0]\n",
    "    print(\"{:.3f}%\".format((len([ i for i in score_list[1:] if i > score_mean]) / score_list[0])*100))"
   ]
  },
  {
   "cell_type": "code",
   "execution_count": null,
   "id": "d81eab83",
   "metadata": {},
   "outputs": [],
   "source": []
  }
 ],
 "metadata": {
  "kernelspec": {
   "display_name": "Python 3.8.8 ('base')",
   "language": "python",
   "name": "python3"
  },
  "language_info": {
   "codemirror_mode": {
    "name": "ipython",
    "version": 3
   },
   "file_extension": ".py",
   "mimetype": "text/x-python",
   "name": "python",
   "nbconvert_exporter": "python",
   "pygments_lexer": "ipython3",
   "version": "3.8.8"
  },
  "vscode": {
   "interpreter": {
    "hash": "ad2bdc8ecc057115af97d19610ffacc2b4e99fae6737bb82f5d7fb13d2f2c186"
   }
  }
 },
 "nbformat": 4,
 "nbformat_minor": 5
}
