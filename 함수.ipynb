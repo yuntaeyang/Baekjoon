{
 "cells": [
  {
   "cell_type": "markdown",
   "metadata": {},
   "source": [
    "## 15596"
   ]
  },
  {
   "cell_type": "code",
   "execution_count": null,
   "metadata": {},
   "outputs": [],
   "source": [
    "def solve(a: list):\n",
    "    return sum(a)"
   ]
  },
  {
   "cell_type": "markdown",
   "metadata": {},
   "source": [
    "## 4673"
   ]
  },
  {
   "cell_type": "code",
   "execution_count": null,
   "metadata": {},
   "outputs": [],
   "source": [
    "answer = [ j for j in range(1, 10001)]\n",
    "for i in range(1,10001):\n",
    "    A = i + sum([int(k) for k in str(i)])\n",
    "    if A in answer:\n",
    "        answer.remove(A)\n",
    "for t in answer:\n",
    "    print(t)\n",
    "    "
   ]
  },
  {
   "cell_type": "markdown",
   "metadata": {},
   "source": [
    "## 1065번"
   ]
  },
  {
   "cell_type": "code",
   "execution_count": null,
   "metadata": {},
   "outputs": [],
   "source": [
    "# 내 풀이 \n",
    "N = int(input())\n",
    "number = 9\n",
    "if N > 10:\n",
    "    for i in range(10, N+1):\n",
    "        A = [int(j) for j in str(i)]\n",
    "        if sum(A) == (len(A)*(A[0]+A[-1]))/2:\n",
    "            number += 1\n",
    "    print(number)\n",
    "else:\n",
    "    print(N)\n"
   ]
  },
  {
   "cell_type": "code",
   "execution_count": null,
   "metadata": {},
   "outputs": [],
   "source": [
    "# 다른 사람 풀이\n",
    "num = int(input())\n",
    "\n",
    "hansu = 0\n",
    "for i in range(1, num+1):\n",
    "    num_list = list(map(int, str(i)))\n",
    "    if i < 100:\n",
    "        hansu += 1  # 100보다 작으면 모두 한수\n",
    "    elif num_list[0]-num_list[1] == num_list[1]-num_list[2]:\n",
    "        hansu += 1  # x의 각 자리가 등차수열이면 한수\n",
    "print(hansu)"
   ]
  }
 ],
 "metadata": {
  "kernelspec": {
   "display_name": "Python 3.8.8 ('base')",
   "language": "python",
   "name": "python3"
  },
  "language_info": {
   "codemirror_mode": {
    "name": "ipython",
    "version": 3
   },
   "file_extension": ".py",
   "mimetype": "text/x-python",
   "name": "python",
   "nbconvert_exporter": "python",
   "pygments_lexer": "ipython3",
   "version": "3.8.8"
  },
  "orig_nbformat": 4,
  "vscode": {
   "interpreter": {
    "hash": "ad2bdc8ecc057115af97d19610ffacc2b4e99fae6737bb82f5d7fb13d2f2c186"
   }
  }
 },
 "nbformat": 4,
 "nbformat_minor": 2
}
