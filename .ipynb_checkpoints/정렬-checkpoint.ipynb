{
 "cells": [
  {
   "cell_type": "markdown",
   "id": "be350622",
   "metadata": {},
   "source": [
    "## 2750"
   ]
  },
  {
   "cell_type": "code",
   "execution_count": null,
   "id": "4706342a",
   "metadata": {},
   "outputs": [],
   "source": [
    "N = int(input())\n",
    "nums = []\n",
    "for _ in range(N):\n",
    "    num = int(input())\n",
    "    nums.append(num)\n",
    "for i in sorted(nums):\n",
    "    print(i)"
   ]
  },
  {
   "cell_type": "markdown",
   "id": "4235ae1f",
   "metadata": {},
   "source": [
    "## 2751"
   ]
  },
  {
   "cell_type": "code",
   "execution_count": null,
   "id": "1b436742",
   "metadata": {},
   "outputs": [],
   "source": [
    "#import sys\n",
    "#N = int(sys.stdin.readline())\n",
    "N = int(input())\n",
    "nums = [0]*10001\n",
    "for _ in range(N):\n",
    "    nums[int(input())] +=1\n",
    "for i in range(10001):\n",
    "    if nums[i] != 0:\n",
    "        for _  in range(nums[i]):\n",
    "             print(i, sep='\\n')"
   ]
  },
  {
   "cell_type": "markdown",
   "id": "169ec96a",
   "metadata": {},
   "source": [
    "## 2108"
   ]
  },
  {
   "cell_type": "code",
   "execution_count": null,
   "id": "63dab4d5",
   "metadata": {},
   "outputs": [],
   "source": [
    "import sys\n",
    "from collections import Counter\n",
    "n = int(sys.stdin.readline())\n",
    "li = []\n",
    "for _ in range(n):\n",
    "    li.append(int(sys.stdin.readline()))\n",
    " \n",
    "# 산술평균 - 다 더해서 / n\n",
    "print(round(sum(li)/n))\n",
    " \n",
    "# 중앙값 - 오름차순 -> 중간값\n",
    "li.sort()\n",
    "print(li[n//2])\n",
    " \n",
    "# 최빈값 - 빈출\n",
    "cnt_li = Counter(li).most_common()\n",
    "if len(cnt_li) > 1 and cnt_li[0][1]==cnt_li[1][1]: #최빈값 2개 이상\n",
    "    print(cnt_li[1][0])\n",
    "else:\n",
    "    print(cnt_li[0][0])\n",
    " \n",
    "# 범위 - 최댓값-최솟값\n",
    "print(max(li)-min(li))\n"
   ]
  },
  {
   "cell_type": "markdown",
   "id": "5739dd7f",
   "metadata": {},
   "source": [
    "## 1427"
   ]
  },
  {
   "cell_type": "code",
   "execution_count": null,
   "id": "205eb323",
   "metadata": {},
   "outputs": [],
   "source": [
    "N = int(input())\n",
    "answer=\"\"\n",
    "for i in sorted(list(map(int, str(N))), reverse=True):\n",
    "    answer += str(i)\n",
    "print(answer)"
   ]
  },
  {
   "cell_type": "code",
   "execution_count": null,
   "id": "58e1cf76",
   "metadata": {},
   "outputs": [],
   "source": [
    "import sys\n",
    "n = int(sys.stdin.readline())\n",
    "so = []\n",
    "for i in range(n):\n",
    "    so.append(list(map(int, sys.stdin.readline().split())))\n",
    "so.sort(key=lambda x: (x[0], x[1]))\n",
    "for i in so:\n",
    "    print(i[0], i[1])"
   ]
  },
  {
   "cell_type": "code",
   "execution_count": null,
   "id": "e3e52dd3",
   "metadata": {},
   "outputs": [],
   "source": []
  }
 ],
 "metadata": {
  "kernelspec": {
   "display_name": "Python 3",
   "language": "python",
   "name": "python3"
  },
  "language_info": {
   "codemirror_mode": {
    "name": "ipython",
    "version": 3
   },
   "file_extension": ".py",
   "mimetype": "text/x-python",
   "name": "python",
   "nbconvert_exporter": "python",
   "pygments_lexer": "ipython3",
   "version": "3.8.8"
  }
 },
 "nbformat": 4,
 "nbformat_minor": 5
}
