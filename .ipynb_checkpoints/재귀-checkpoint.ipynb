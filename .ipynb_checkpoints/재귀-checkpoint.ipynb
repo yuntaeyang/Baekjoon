{
 "cells": [
  {
   "cell_type": "markdown",
   "id": "c01d8d53",
   "metadata": {},
   "source": [
    "## 10872"
   ]
  },
  {
   "cell_type": "code",
   "execution_count": null,
   "id": "49d80772",
   "metadata": {},
   "outputs": [],
   "source": [
    "N = int(input())\n",
    "answer = 1\n",
    "for i in range(1,N+1):\n",
    "    answer *= i\n",
    "print(answer)"
   ]
  },
  {
   "cell_type": "markdown",
   "id": "7d4b2dd4",
   "metadata": {},
   "source": [
    "## 10870"
   ]
  },
  {
   "cell_type": "code",
   "execution_count": 24,
   "id": "8517b9d5",
   "metadata": {},
   "outputs": [
    {
     "name": "stdout",
     "output_type": "stream",
     "text": [
      "10\n",
      "55\n"
     ]
    }
   ],
   "source": [
    "N = int(input())\n",
    "answer = [0, 1]\n",
    "\n",
    "for i in range(2, N+1):\n",
    "    answer.append(answer[i-1]+answer[i-2])\n",
    "print(answer[N])"
   ]
  },
  {
   "cell_type": "markdown",
   "id": "57272a69",
   "metadata": {},
   "source": [
    "## 17478"
   ]
  },
  {
   "cell_type": "code",
   "execution_count": 27,
   "id": "2f6e679d",
   "metadata": {},
   "outputs": [
    {
     "name": "stdout",
     "output_type": "stream",
     "text": [
      "2\n",
      "어느 한 컴퓨터공학과 학생이 유명한 교수님을 찾아가 물었다.\n",
      "\"재귀함수가 뭔가요?\"\n",
      "\"잘 들어보게. 옛날옛날 한 산 꼭대기에 이세상 모든 지식을 통달한 선인이 있었어.\n",
      "마을 사람들은 모두 그 선인에게 수많은 질문을 했고, 모두 지혜롭게 대답해 주었지.\n",
      "그의 답은 대부분 옳았다고 하네. 그런데 어느 날, 그 선인에게 한 선비가 찾아와서 물었어.\"\n",
      "____\"재귀함수가 뭔가요?\"\n",
      "____\"잘 들어보게. 옛날옛날 한 산 꼭대기에 이세상 모든 지식을 통달한 선인이 있었어.\n",
      "____마을 사람들은 모두 그 선인에게 수많은 질문을 했고, 모두 지혜롭게 대답해 주었지.\n",
      "____그의 답은 대부분 옳았다고 하네. 그런데 어느 날, 그 선인에게 한 선비가 찾아와서 물었어.\"\n",
      "________\"재귀함수가 뭔가요?\"\n",
      "________\"재귀함수는 자기 자신을 호출하는 함수라네\"\n",
      "________라고 답변하였지.\n",
      "____라고 답변하였지.\n",
      "라고 답변하였지.\n"
     ]
    }
   ],
   "source": [
    "n = int(input())\n",
    "\n",
    "def recur(i, n):\n",
    "    print(\"____\"*i + '\"재귀함수가 뭔가요?\"')\n",
    "    if i == n:\n",
    "        print(\"____\"*i + '\"재귀함수는 자기 자신을 호출하는 함수라네\"')\n",
    "    else:\n",
    "        print(\"____\"*i + '\"잘 들어보게. 옛날옛날 한 산 꼭대기에 이세상 모든 지식을 통달한 선인이 있었어.')\n",
    "        print(\"____\"*i + \"마을 사람들은 모두 그 선인에게 수많은 질문을 했고, 모두 지혜롭게 대답해 주었지.\")\n",
    "        print(\"____\"*i + '그의 답은 대부분 옳았다고 하네. 그런데 어느 날, 그 선인에게 한 선비가 찾아와서 물었어.\"')\n",
    "        recur(i+1, n)\n",
    "    print(\"____\"*i + \"라고 답변하였지.\")\n",
    "\n",
    "\n",
    "print(\"어느 한 컴퓨터공학과 학생이 유명한 교수님을 찾아가 물었다.\")\n",
    "recur(0, n)"
   ]
  },
  {
   "cell_type": "code",
   "execution_count": null,
   "id": "89771f87",
   "metadata": {},
   "outputs": [],
   "source": []
  }
 ],
 "metadata": {
  "kernelspec": {
   "display_name": "Python 3",
   "language": "python",
   "name": "python3"
  },
  "language_info": {
   "codemirror_mode": {
    "name": "ipython",
    "version": 3
   },
   "file_extension": ".py",
   "mimetype": "text/x-python",
   "name": "python",
   "nbconvert_exporter": "python",
   "pygments_lexer": "ipython3",
   "version": "3.8.8"
  }
 },
 "nbformat": 4,
 "nbformat_minor": 5
}
