{
 "cells": [
  {
   "cell_type": "markdown",
   "id": "99f1b335",
   "metadata": {},
   "source": [
    "## 2739번"
   ]
  },
  {
   "cell_type": "code",
   "execution_count": null,
   "id": "f77b22e6",
   "metadata": {},
   "outputs": [],
   "source": [
    "A = int(input())\n",
    "\n",
    "for i in range(1,10):\n",
    "    print(f\"{A} * {i} = {A*i}\")"
   ]
  },
  {
   "cell_type": "markdown",
   "id": "24268728",
   "metadata": {},
   "source": [
    "## 10950번"
   ]
  },
  {
   "cell_type": "code",
   "execution_count": null,
   "id": "5695f2b2",
   "metadata": {},
   "outputs": [],
   "source": [
    "n = int(input())\n",
    "for i in range(n):\n",
    "    A, B = map(int, input().split())\n",
    "    print(A+B)"
   ]
  },
  {
   "cell_type": "markdown",
   "id": "aaa395fd",
   "metadata": {},
   "source": [
    "## 8393번"
   ]
  },
  {
   "cell_type": "code",
   "execution_count": null,
   "id": "e6cdaa2a",
   "metadata": {},
   "outputs": [],
   "source": [
    "n = int(input())\n",
    "\n",
    "point = 0\n",
    "for i in range(1, n+1):\n",
    "    point += i\n",
    "print(point)"
   ]
  },
  {
   "cell_type": "markdown",
   "id": "84caa911",
   "metadata": {},
   "source": [
    "## 15552번"
   ]
  },
  {
   "cell_type": "code",
   "execution_count": null,
   "id": "2e697041",
   "metadata": {},
   "outputs": [],
   "source": [
    "import sys\n",
    "n = int(input())\n",
    "\n",
    "for i in range(n):\n",
    "    A, B = map(int, sys.stdin.readline().split())\n",
    "    print(A+B)"
   ]
  },
  {
   "cell_type": "markdown",
   "id": "d7992f93",
   "metadata": {},
   "source": [
    "## 2741번"
   ]
  },
  {
   "cell_type": "code",
   "execution_count": null,
   "id": "88a8e3e2",
   "metadata": {},
   "outputs": [],
   "source": [
    "n = int(input())\n",
    "\n",
    "for i in range(1, n+1):\n",
    "    print(i)"
   ]
  },
  {
   "cell_type": "markdown",
   "id": "070145c0",
   "metadata": {},
   "source": [
    "## 2742번"
   ]
  },
  {
   "cell_type": "code",
   "execution_count": null,
   "id": "98fb3009",
   "metadata": {},
   "outputs": [],
   "source": [
    "n = int(input())\n",
    "\n",
    "for i in range(n):\n",
    "    print(n-i)"
   ]
  },
  {
   "cell_type": "markdown",
   "id": "6105b579",
   "metadata": {},
   "source": [
    "## 11021번"
   ]
  },
  {
   "cell_type": "code",
   "execution_count": null,
   "id": "97a393a1",
   "metadata": {},
   "outputs": [],
   "source": [
    "import sys\n",
    "n = int(input())\n",
    "\n",
    "for i in range(n):\n",
    "    A, B = map(int, sys.stdin.readline().split())\n",
    "    print(f\"Case #{i+1}: {A+B}\")"
   ]
  },
  {
   "cell_type": "markdown",
   "id": "e384eff7",
   "metadata": {},
   "source": [
    "## 11022번"
   ]
  },
  {
   "cell_type": "code",
   "execution_count": null,
   "id": "73be94a5",
   "metadata": {},
   "outputs": [],
   "source": [
    "import sys\n",
    "n = int(input())\n",
    "\n",
    "for i in range(n):\n",
    "    A, B = map(int, sys.stdin.readline().split())\n",
    "    print(f\"Case #{i+1}: {A} + {B} = {A+B}\")"
   ]
  },
  {
   "cell_type": "markdown",
   "id": "c0b94e17",
   "metadata": {},
   "source": [
    "## 2438번"
   ]
  },
  {
   "cell_type": "code",
   "execution_count": null,
   "id": "a83aefb3",
   "metadata": {},
   "outputs": [],
   "source": [
    "n = int(input())\n",
    "\n",
    "for i in range(1, n+1):\n",
    "    print(\"*\"*i)"
   ]
  },
  {
   "cell_type": "markdown",
   "id": "03c63151",
   "metadata": {},
   "source": [
    "## 2439번"
   ]
  },
  {
   "cell_type": "code",
   "execution_count": null,
   "id": "ec22982f",
   "metadata": {},
   "outputs": [],
   "source": [
    "n = int(input())\n",
    "\n",
    "for i in range(1, n+1):\n",
    "    print(\" \"*(n-i)+\"*\"*(i))"
   ]
  },
  {
   "cell_type": "markdown",
   "id": "69c647a0",
   "metadata": {},
   "source": [
    "## \t10871번"
   ]
  },
  {
   "cell_type": "code",
   "execution_count": null,
   "id": "8ebc830f",
   "metadata": {},
   "outputs": [],
   "source": [
    "N, X = map(int, input().split())\n",
    "A = list(map(int, input().split()))\n",
    "\n",
    "for i in range(N):\n",
    "    if A[i] < X:\n",
    "        print(A[i], end=\" \")"
   ]
  },
  {
   "cell_type": "markdown",
   "id": "3aaaf947",
   "metadata": {},
   "source": [
    "## 10952번"
   ]
  },
  {
   "cell_type": "code",
   "execution_count": null,
   "id": "81e75508",
   "metadata": {},
   "outputs": [],
   "source": [
    "while True:\n",
    "    N, X = map(int, input().split())\n",
    "    if N == 0 and X == 0:\n",
    "        break\n",
    "    print(N+X)"
   ]
  },
  {
   "cell_type": "markdown",
   "id": "b587c7f3",
   "metadata": {},
   "source": [
    "## 10951번"
   ]
  },
  {
   "cell_type": "code",
   "execution_count": null,
   "id": "154177df",
   "metadata": {},
   "outputs": [],
   "source": [
    "while True:\n",
    "    try:\n",
    "        N, X = map(int, input().split())\n",
    "        print(N+X)\n",
    "    except:\n",
    "        break "
   ]
  },
  {
   "cell_type": "markdown",
   "id": "838c6628",
   "metadata": {},
   "source": [
    "## 1110번"
   ]
  },
  {
   "cell_type": "code",
   "execution_count": null,
   "id": "fb230f27",
   "metadata": {},
   "outputs": [],
   "source": [
    "n = int(input())\n",
    "num = n\n",
    "cnt = 0\n",
    "while True:\n",
    "    a = num // 10\n",
    "    b = num % 10\n",
    "    c = (a+b) % 10\n",
    "    num = (b*10)+c\n",
    "    \n",
    "    cnt += 1\n",
    "    if (num == n):\n",
    "        break\n",
    "print(cnt)"
   ]
  },
  {
   "cell_type": "code",
   "execution_count": null,
   "id": "9fb9dd8e",
   "metadata": {},
   "outputs": [],
   "source": []
  }
 ],
 "metadata": {
  "kernelspec": {
   "display_name": "Python 3",
   "language": "python",
   "name": "python3"
  },
  "language_info": {
   "codemirror_mode": {
    "name": "ipython",
    "version": 3
   },
   "file_extension": ".py",
   "mimetype": "text/x-python",
   "name": "python",
   "nbconvert_exporter": "python",
   "pygments_lexer": "ipython3",
   "version": "3.8.8"
  }
 },
 "nbformat": 4,
 "nbformat_minor": 5
}
