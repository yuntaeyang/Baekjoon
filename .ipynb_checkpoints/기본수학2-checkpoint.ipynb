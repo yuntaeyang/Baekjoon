{
 "cells": [
  {
   "cell_type": "markdown",
   "id": "ccc7b34e",
   "metadata": {},
   "source": [
    "## 1978"
   ]
  },
  {
   "cell_type": "code",
   "execution_count": null,
   "id": "406efbb6",
   "metadata": {},
   "outputs": [],
   "source": [
    "N = int(input())\n",
    "num = map(int, input().split())\n",
    "cnt = 0\n",
    "for j in num:\n",
    "    answer = []\n",
    "    for i in range(1, j+1):\n",
    "        if j % i == 0:\n",
    "            answer.append (i)\n",
    "    if len(answer) == 2:\n",
    "        cnt += 1\n",
    "print(cnt)"
   ]
  },
  {
   "cell_type": "markdown",
   "id": "08346277",
   "metadata": {},
   "source": [
    "## 2581"
   ]
  },
  {
   "cell_type": "code",
   "execution_count": null,
   "id": "c8f12e75",
   "metadata": {},
   "outputs": [],
   "source": [
    "M = int(input())\n",
    "N = int(input())\n",
    "num = []\n",
    "for j in range(M, N+1):\n",
    "    answer = []\n",
    "    for i in range(1, j+1):\n",
    "        if j % i == 0:\n",
    "            answer.append (i)\n",
    "    if len(answer) == 2:\n",
    "        num.append(j)\n",
    "\n",
    "if len(num) == 0:\n",
    "    print(-1)\n",
    "else:\n",
    "    print(sum(num))\n",
    "    print(num[0])"
   ]
  },
  {
   "cell_type": "markdown",
   "id": "b573b29f",
   "metadata": {},
   "source": [
    "## 11653"
   ]
  },
  {
   "cell_type": "code",
   "execution_count": null,
   "id": "adcffbbf",
   "metadata": {},
   "outputs": [],
   "source": [
    "N = int(input())\n",
    "\n",
    "while N > 1: \n",
    "    for i in range(2, int(N)+1):\n",
    "        if  N % i == 0:\n",
    "            N = N / i\n",
    "            print(i)\n",
    "            break"
   ]
  },
  {
   "cell_type": "markdown",
   "id": "c784e56d",
   "metadata": {},
   "source": [
    "## 1929"
   ]
  },
  {
   "cell_type": "code",
   "execution_count": null,
   "id": "d787e356",
   "metadata": {},
   "outputs": [],
   "source": [
    "x, y = map(int, input().split())\n",
    "\n",
    "for i in range(x, y+1):\n",
    "    if i == 1:\n",
    "        continue\n",
    "    for j in range(2, int(i** 0.5)+1 ):\n",
    "        if i % j == 0:\n",
    "            break\n",
    "    else:\n",
    "        print(i)"
   ]
  },
  {
   "cell_type": "markdown",
   "id": "c21abcc0",
   "metadata": {},
   "source": [
    "## 4948"
   ]
  },
  {
   "cell_type": "code",
   "execution_count": null,
   "id": "791ec0d6",
   "metadata": {},
   "outputs": [],
   "source": [
    "num = []\n",
    "\n",
    "for i in range(2, 246913):\n",
    "\n",
    "    for p in range(2, int(k**0.5)+1):\n",
    "        if k % p == 0:\n",
    "    if cnt == 0:\n",
    "        num.append(i)\n",
    "\n",
    "while True:\n",
    "    n = int(input())\n",
    "    res = 0\n",
    "\n",
    "    if n == 0:\n",
    "        break\n",
    "\n",
    "    for i in num:\n",
    "        if n < i <= 2*n:\n",
    "            res += 1\n",
    "\n",
    "    print(res)"
   ]
  },
  {
   "cell_type": "markdown",
   "id": "2444c062",
   "metadata": {},
   "source": [
    "## 9020"
   ]
  },
  {
   "cell_type": "code",
   "execution_count": null,
   "id": "973a781c",
   "metadata": {},
   "outputs": [],
   "source": [
    "def is_prime(n):\n",
    "    if n == 1:\n",
    "        return False\n",
    "    for j in range(2, int(n**0.5) + 1):\n",
    "        if n % j == 0:\n",
    "            return False\n",
    "    return True\n",
    "\n",
    "for _ in range(int(input())):\n",
    "    num = int(input())\n",
    "    \n",
    "    a, b = num//2, num//2\n",
    "    while a> 0:\n",
    "        if is_prime(a) and is_prime(b):\n",
    "            print(a, b)\n",
    "            break\n",
    "        else:\n",
    "            a -= 1\n",
    "            b += 1\n",
    "    "
   ]
  },
  {
   "cell_type": "code",
   "execution_count": null,
   "id": "6043e3c8",
   "metadata": {},
   "outputs": [],
   "source": []
  }
 ],
 "metadata": {
  "kernelspec": {
   "display_name": "Python 3",
   "language": "python",
   "name": "python3"
  },
  "language_info": {
   "codemirror_mode": {
    "name": "ipython",
    "version": 3
   },
   "file_extension": ".py",
   "mimetype": "text/x-python",
   "name": "python",
   "nbconvert_exporter": "python",
   "pygments_lexer": "ipython3",
   "version": "3.8.8"
  }
 },
 "nbformat": 4,
 "nbformat_minor": 5
}
