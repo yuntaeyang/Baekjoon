{
 "cells": [
  {
   "cell_type": "markdown",
   "id": "9485b12b",
   "metadata": {},
   "source": [
    "## Hello World 2557 문제"
   ]
  },
  {
   "cell_type": "code",
   "execution_count": 22,
   "id": "a6e06661",
   "metadata": {},
   "outputs": [
    {
     "name": "stdout",
     "output_type": "stream",
     "text": [
      "Hello World!\n"
     ]
    }
   ],
   "source": [
    "print('Hello World!')"
   ]
  },
  {
   "cell_type": "markdown",
   "id": "8ee7b027",
   "metadata": {},
   "source": [
    "## We love kriii 10718 문제"
   ]
  },
  {
   "cell_type": "code",
   "execution_count": 23,
   "id": "2d0c428c",
   "metadata": {},
   "outputs": [
    {
     "name": "stdout",
     "output_type": "stream",
     "text": [
      "강한친구 대한육군\n",
      "강한친구 대한육군\n"
     ]
    }
   ],
   "source": [
    "print(\"강한친구 대한육군\")\n",
    "print(\"강한친구 대한육군\")"
   ]
  },
  {
   "cell_type": "markdown",
   "id": "488546ad",
   "metadata": {},
   "source": [
    "## 고양이 10171 문제"
   ]
  },
  {
   "cell_type": "code",
   "execution_count": 24,
   "id": "486bd9f5",
   "metadata": {},
   "outputs": [
    {
     "name": "stdout",
     "output_type": "stream",
     "text": [
      "\\    /\\\n",
      " )  ( ')\n",
      "(  /  )\n",
      " \\(__)|\n"
     ]
    }
   ],
   "source": [
    "print(\"\\\\    /\\\\\")\n",
    "print(\" )  ( ')\")\n",
    "print(\"(  /  )\")\n",
    "print(\" \\\\(__)|\")"
   ]
  },
  {
   "cell_type": "markdown",
   "id": "04524a5c",
   "metadata": {},
   "source": [
    "## 개 10172 문제"
   ]
  },
  {
   "cell_type": "code",
   "execution_count": 25,
   "id": "c3735aff",
   "metadata": {},
   "outputs": [
    {
     "name": "stdout",
     "output_type": "stream",
     "text": [
      "|\\_/|\n",
      "|q p|   /}\n",
      "( 0 )\"\"\"\\\n",
      "|\"^\"`    |\n",
      "||_/=\\\\__|\n"
     ]
    }
   ],
   "source": [
    "print(\"|\\\\_/|\")\n",
    "print(\"|q p|   /}\")\n",
    "print('( 0 )\"\"\"\\\\')\n",
    "print('|\"^\"`    |')\n",
    "print(\"||_/=\\\\\\\\__|\")"
   ]
  },
  {
   "cell_type": "markdown",
   "id": "dbee3872",
   "metadata": {},
   "source": [
    "## A+B 1000번"
   ]
  },
  {
   "cell_type": "code",
   "execution_count": 26,
   "id": "8b7c9895",
   "metadata": {},
   "outputs": [
    {
     "name": "stdout",
     "output_type": "stream",
     "text": [
      "3 4\n",
      "7\n"
     ]
    }
   ],
   "source": [
    "# 입력\n",
    "a, b = map(int, input().split())\n",
    "\n",
    "# 출력\n",
    "print(a+b)"
   ]
  },
  {
   "cell_type": "markdown",
   "id": "ad9831b2",
   "metadata": {},
   "source": [
    "## A-B 1001번 "
   ]
  },
  {
   "cell_type": "code",
   "execution_count": 27,
   "id": "d7954cac",
   "metadata": {},
   "outputs": [
    {
     "name": "stdout",
     "output_type": "stream",
     "text": [
      "3 4\n",
      "-1\n"
     ]
    }
   ],
   "source": [
    "# 입력\n",
    "a, b = map(int, input().split())\n",
    "\n",
    "# 출력\n",
    "print(a-b)"
   ]
  },
  {
   "cell_type": "markdown",
   "id": "9f8fad0b",
   "metadata": {},
   "source": [
    "## A/B 1008번"
   ]
  },
  {
   "cell_type": "code",
   "execution_count": 29,
   "id": "9abb2260",
   "metadata": {},
   "outputs": [
    {
     "name": "stdout",
     "output_type": "stream",
     "text": [
      "3 4\n",
      "0.75\n"
     ]
    }
   ],
   "source": [
    "# 입력\n",
    "a, b = map(int, input().split())\n",
    "\n",
    "# 출력\n",
    "print(a/b)"
   ]
  },
  {
   "cell_type": "markdown",
   "id": "b2df59cc",
   "metadata": {},
   "source": [
    "## 두 자연수 A와 B가 주어진다. 이때, A+B, A-B, A*B, A/B(몫), A%B(나머지)를 출력하는 프로그램을 작성하시오. 10869번"
   ]
  },
  {
   "cell_type": "code",
   "execution_count": 30,
   "id": "2d6f7dec",
   "metadata": {},
   "outputs": [
    {
     "name": "stdout",
     "output_type": "stream",
     "text": [
      "3 4\n",
      "7\n",
      "-1\n",
      "12\n",
      "0\n",
      "3\n"
     ]
    }
   ],
   "source": [
    "# 입력\n",
    "a, b = map(int, input().split())\n",
    "\n",
    "# 출력\n",
    "print(a+b)\n",
    "print(a-b)\n",
    "print(a*b)\n",
    "print(a//b)\n",
    "print(a%b)"
   ]
  },
  {
   "cell_type": "markdown",
   "id": "baa14372",
   "metadata": {},
   "source": [
    "## ??! 10926번"
   ]
  },
  {
   "cell_type": "code",
   "execution_count": 31,
   "id": "c4f83f60",
   "metadata": {},
   "outputs": [
    {
     "name": "stdout",
     "output_type": "stream",
     "text": [
      "yuntaeyang\n",
      "yuntaeyang??!\n"
     ]
    }
   ],
   "source": [
    "# 입력\n",
    "a = input()\n",
    "\n",
    "# 출력\n",
    "print(a+\"??!\")"
   ]
  },
  {
   "cell_type": "markdown",
   "id": "e6ff84dd",
   "metadata": {},
   "source": [
    "## 1998년생인 내가 태국에서는 2541년생?! 18108번"
   ]
  },
  {
   "cell_type": "code",
   "execution_count": 32,
   "id": "379fab2e",
   "metadata": {},
   "outputs": [
    {
     "name": "stdout",
     "output_type": "stream",
     "text": [
      "1998\n",
      "1455\n"
     ]
    }
   ],
   "source": [
    "# 입력\n",
    "a = int(input())\n",
    "\n",
    "# 출력\n",
    "print(a-543)"
   ]
  },
  {
   "cell_type": "markdown",
   "id": "25440e8c",
   "metadata": {},
   "source": [
    "## 첫째 줄에 (A+B)%C, 둘째 줄에 ((A%C) + (B%C))%C, 셋째 줄에 (A×B)%C, 넷째 줄에 ((A%C) × (B%C))%C를 출력한다 10430번"
   ]
  },
  {
   "cell_type": "code",
   "execution_count": 33,
   "id": "bd9c79b5",
   "metadata": {},
   "outputs": [
    {
     "name": "stdout",
     "output_type": "stream",
     "text": [
      "3 4 5\n",
      "2\n",
      "2\n",
      "2\n",
      "2\n"
     ]
    }
   ],
   "source": [
    "# 입력\n",
    "A, B, C = map(int, input().split())\n",
    "\n",
    "# 출력\n",
    "print((A+B)%C)\n",
    "print(((A%C) + (B%C))%C)\n",
    "print((A*B)%C)\n",
    "print(((A%C)*(B%C))%C)"
   ]
  },
  {
   "cell_type": "markdown",
   "id": "9b22f8fb",
   "metadata": {},
   "source": [
    "## 2588번"
   ]
  },
  {
   "cell_type": "code",
   "execution_count": 34,
   "id": "059ca424",
   "metadata": {},
   "outputs": [
    {
     "name": "stdout",
     "output_type": "stream",
     "text": [
      "345\n",
      "678\n",
      "2760\n",
      "2415\n",
      "2070\n",
      "233910\n"
     ]
    }
   ],
   "source": [
    "# 입력\n",
    "A = int(input())\n",
    "B = int(input())\n",
    "\n",
    "# 출력\n",
    "for i in reversed(list(str(B))):\n",
    "    print(A*int(i), sep='\\n')\n",
    "print(A*B)    "
   ]
  },
  {
   "cell_type": "markdown",
   "id": "7e9bffbd",
   "metadata": {},
   "source": [
    "## 25083번"
   ]
  },
  {
   "cell_type": "code",
   "execution_count": 35,
   "id": "1ea08c9e",
   "metadata": {},
   "outputs": [
    {
     "name": "stdout",
     "output_type": "stream",
     "text": [
      "         ,r'\"7\n",
      "r`-_   ,'  ,/\n",
      " \\. \". L_r'\n",
      "   `~\\/\n",
      "      |\n",
      "      |\n"
     ]
    }
   ],
   "source": [
    "print('''         ,r'\"7''')\n",
    "print(\"r`-_   ,'  ,/\")\n",
    "print(\"\"\" \\. \". L_r'\"\"\")\n",
    "print(\"   `~\\\\/\")\n",
    "print(\"      |\")\n",
    "print(\"      |\")"
   ]
  }
 ],
 "metadata": {
  "kernelspec": {
   "display_name": "Python 3",
   "language": "python",
   "name": "python3"
  },
  "language_info": {
   "codemirror_mode": {
    "name": "ipython",
    "version": 3
   },
   "file_extension": ".py",
   "mimetype": "text/x-python",
   "name": "python",
   "nbconvert_exporter": "python",
   "pygments_lexer": "ipython3",
   "version": "3.8.8"
  }
 },
 "nbformat": 4,
 "nbformat_minor": 5
}
