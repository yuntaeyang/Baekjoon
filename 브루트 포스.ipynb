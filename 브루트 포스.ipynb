{
 "cells": [
  {
   "cell_type": "markdown",
   "id": "150fc94f",
   "metadata": {},
   "source": [
    "## 2798"
   ]
  },
  {
   "cell_type": "code",
   "execution_count": 2,
   "id": "32ce05ed",
   "metadata": {},
   "outputs": [
    {
     "name": "stdout",
     "output_type": "stream",
     "text": [
      "5 21\n",
      "5 6 7 8 8\n"
     ]
    }
   ],
   "source": [
    "N, M = map(int, input().split())\n",
    "A=list(map(int, input().split()))\n",
    "result = 0\n",
    "for i in range(N):\n",
    "    for j in range(i+1, N):\n",
    "        for k in range(j+1, N):\n",
    "            if A[i] + A[j] + A[k] > M:\n",
    "                continue\n",
    "            else:\n",
    "                result = max(result, A[i] + A[j] + A[k])\n",
    "print(result)"
   ]
  },
  {
   "cell_type": "markdown",
   "id": "428a677c",
   "metadata": {},
   "source": [
    "## 2231"
   ]
  },
  {
   "cell_type": "code",
   "execution_count": 24,
   "id": "5499f3eb",
   "metadata": {},
   "outputs": [
    {
     "name": "stdout",
     "output_type": "stream",
     "text": [
      "256\n",
      "245\n"
     ]
    }
   ],
   "source": [
    "N = int(input())\n",
    "\n",
    "result = 0\n",
    "for i in range(0, N+1):\n",
    "    A = list(map(int, str(i)))\n",
    "    if i + sum(A) == N:\n",
    "        result = i\n",
    "        break\n",
    "    else:\n",
    "        continue\n",
    "print(result)"
   ]
  },
  {
   "cell_type": "markdown",
   "id": "d97adcc3",
   "metadata": {},
   "source": [
    "## 7568"
   ]
  },
  {
   "cell_type": "code",
   "execution_count": 27,
   "id": "7ea5681f",
   "metadata": {},
   "outputs": [
    {
     "name": "stdout",
     "output_type": "stream",
     "text": [
      "5\n",
      "55 185\n",
      "58 183\n",
      "88 186\n",
      "60 175\n",
      "46 155\n",
      "2 2 1 2 5 "
     ]
    }
   ],
   "source": [
    "N = int(input())\n",
    "list_A = []\n",
    "list_B = []\n",
    "for _ in range(N):\n",
    "    A, B = map(int, input().split())\n",
    "    list_A.append(A)\n",
    "    list_B.append(B)\n",
    "for i in range(len(list_A)):\n",
    "    point = 0\n",
    "    for j in range(len(list_A)):\n",
    "        if (list_A[i] < list_A[j]) and (list_B[i] < list_B[j]):\n",
    "            point += 1\n",
    "    print(point+1, end=\" \")"
   ]
  },
  {
   "cell_type": "markdown",
   "id": "77506b8a",
   "metadata": {},
   "source": [
    "## 1436"
   ]
  },
  {
   "cell_type": "code",
   "execution_count": null,
   "id": "ee096622",
   "metadata": {},
   "outputs": [],
   "source": [
    "n = int(input())\n",
    "cnt = 0\n",
    "six_n = 666\n",
    "while True:\n",
    "    if '666' in str(six_n):\n",
    "        cnt += 1\n",
    "    if cnt == n:\n",
    "        print(six_n)\n",
    "        break\n",
    "    six_n += 1"
   ]
  }
 ],
 "metadata": {
  "kernelspec": {
   "display_name": "Python 3",
   "language": "python",
   "name": "python3"
  },
  "language_info": {
   "codemirror_mode": {
    "name": "ipython",
    "version": 3
   },
   "file_extension": ".py",
   "mimetype": "text/x-python",
   "name": "python",
   "nbconvert_exporter": "python",
   "pygments_lexer": "ipython3",
   "version": "3.8.8"
  }
 },
 "nbformat": 4,
 "nbformat_minor": 5
}
