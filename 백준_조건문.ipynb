{
 "cells": [
  {
   "cell_type": "markdown",
   "id": "7c227b3c",
   "metadata": {},
   "source": [
    "## 1330 문제"
   ]
  },
  {
   "cell_type": "code",
   "execution_count": 1,
   "id": "4a150f0d",
   "metadata": {},
   "outputs": [
    {
     "name": "stdout",
     "output_type": "stream",
     "text": [
      "5 5\n",
      "==\n"
     ]
    }
   ],
   "source": [
    "# 입력\n",
    "A, B = map(int, input().split())\n",
    "\n",
    "# 출력\n",
    "if A > B :\n",
    "    print(\">\")\n",
    "elif A < B:\n",
    "    print(\"<\")\n",
    "else:\n",
    "    print(\"==\")"
   ]
  },
  {
   "cell_type": "markdown",
   "id": "eaea4375",
   "metadata": {},
   "source": [
    "## 9498 문제"
   ]
  },
  {
   "cell_type": "code",
   "execution_count": 2,
   "id": "524c637f",
   "metadata": {},
   "outputs": [
    {
     "name": "stdout",
     "output_type": "stream",
     "text": [
      "100\n",
      "A\n"
     ]
    }
   ],
   "source": [
    "#시험 점수를 입력받아 90 ~ 100점은 A, 80 ~ 89점은 B, 70 ~ 79점은 C, 60 ~ 69점은 D, 나머지 점수는 F를 출력하는 프로그램을 작성하시오.\n",
    "score = int(input())\n",
    "\n",
    "if score >=90 and score <= 100 : \n",
    "    print(\"A\")\n",
    "elif score >= 80 and score <= 89 : \n",
    "    print(\"B\")\n",
    "elif score >= 70 and score <=79 :\n",
    "    print(\"C\")\n",
    "elif score >= 60 and score <=69 :\n",
    "    print(\"D\")\n",
    "else: \n",
    "    print(\"F\")"
   ]
  },
  {
   "cell_type": "markdown",
   "id": "3ed0f563",
   "metadata": {},
   "source": [
    "## 2753번"
   ]
  },
  {
   "cell_type": "code",
   "execution_count": 4,
   "id": "f5fc679d",
   "metadata": {},
   "outputs": [
    {
     "name": "stdout",
     "output_type": "stream",
     "text": [
      "2022\n",
      "0\n"
     ]
    }
   ],
   "source": [
    "A = int(input())\n",
    "\n",
    "if A % 4 == 0 and (A % 100 != 0 or A % 400 == 0) : \n",
    "    print(1)\n",
    "else:\n",
    "    print(0)"
   ]
  },
  {
   "cell_type": "markdown",
   "id": "843d2470",
   "metadata": {},
   "source": [
    "## 14681번"
   ]
  },
  {
   "cell_type": "code",
   "execution_count": 6,
   "id": "309e628f",
   "metadata": {},
   "outputs": [
    {
     "name": "stdout",
     "output_type": "stream",
     "text": [
      "10\n",
      "10\n",
      "1\n"
     ]
    }
   ],
   "source": [
    "A = int(input())\n",
    "B = int(input())\n",
    "\n",
    "if A > 0 and B > 0:\n",
    "    print(1)\n",
    "elif A < 0 and  B > 0:\n",
    "    print(2)\n",
    "elif A < 0 and B < 0:\n",
    "    print(3)\n",
    "else:\n",
    "    print(4)"
   ]
  },
  {
   "cell_type": "markdown",
   "id": "6b6eaad1",
   "metadata": {},
   "source": [
    "## 2884번"
   ]
  },
  {
   "cell_type": "code",
   "execution_count": 9,
   "id": "cf621132",
   "metadata": {},
   "outputs": [
    {
     "name": "stdout",
     "output_type": "stream",
     "text": [
      "0 30\n",
      "23 45\n"
     ]
    }
   ],
   "source": [
    "A, B = map(int, input().split())\n",
    "\n",
    "if B >= 45 : \n",
    "    print(f\"{A} {B-45}\")\n",
    "elif A !=0 and B < 45 : \n",
    "    print(f\"{A-1} {60+B-45}\")\n",
    "else:\n",
    "    print(f\"{23} {60+B-45}\")\n",
    "    "
   ]
  },
  {
   "cell_type": "markdown",
   "id": "b4fc23e5",
   "metadata": {},
   "source": [
    "## 2525번"
   ]
  },
  {
   "cell_type": "code",
   "execution_count": 11,
   "id": "e3669ecc",
   "metadata": {},
   "outputs": [
    {
     "name": "stdout",
     "output_type": "stream",
     "text": [
      "10 10\n",
      "10\n",
      "10 20\n"
     ]
    }
   ],
   "source": [
    "A, B = map(int, input().split())\n",
    "C = int(input())\n",
    "\n",
    "A += C // 60\n",
    "B += C % 60\n",
    "\n",
    "if B >= 60:\n",
    "    A += 1\n",
    "    B -= 60\n",
    "if A >= 24:\n",
    "    A -= 24\n",
    "\n",
    "print(f\"{A} {B}\")"
   ]
  },
  {
   "cell_type": "markdown",
   "id": "3e9434be",
   "metadata": {},
   "source": [
    "## 2480번"
   ]
  },
  {
   "cell_type": "code",
   "execution_count": 13,
   "id": "37e5dcba",
   "metadata": {},
   "outputs": [
    {
     "name": "stdout",
     "output_type": "stream",
     "text": [
      "1 2 3\n",
      "300\n"
     ]
    }
   ],
   "source": [
    "A, B, C = map(int, input().split())\n",
    "\n",
    "if A == B == C:\n",
    "    print(10000+(A*1000))\n",
    "elif (A == B != C) or (A == C != B):\n",
    "    print(1000+(A*100))\n",
    "elif (A != B == C):\n",
    "    print(1000+(B*100))\n",
    "else:\n",
    "    print(max(A,B,C)*100)"
   ]
  },
  {
   "cell_type": "code",
   "execution_count": null,
   "id": "92d32411",
   "metadata": {},
   "outputs": [],
   "source": []
  }
 ],
 "metadata": {
  "kernelspec": {
   "display_name": "Python 3",
   "language": "python",
   "name": "python3"
  },
  "language_info": {
   "codemirror_mode": {
    "name": "ipython",
    "version": 3
   },
   "file_extension": ".py",
   "mimetype": "text/x-python",
   "name": "python",
   "nbconvert_exporter": "python",
   "pygments_lexer": "ipython3",
   "version": "3.8.8"
  }
 },
 "nbformat": 4,
 "nbformat_minor": 5
}
